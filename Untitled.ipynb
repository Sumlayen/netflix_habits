{
 "cells": [
  {
   "cell_type": "code",
   "execution_count": 20,
   "id": "8536365d",
   "metadata": {},
   "outputs": [
    {
     "data": {
      "text/html": [
       "<div>\n",
       "<style scoped>\n",
       "    .dataframe tbody tr th:only-of-type {\n",
       "        vertical-align: middle;\n",
       "    }\n",
       "\n",
       "    .dataframe tbody tr th {\n",
       "        vertical-align: top;\n",
       "    }\n",
       "\n",
       "    .dataframe thead th {\n",
       "        text-align: right;\n",
       "    }\n",
       "</style>\n",
       "<table border=\"1\" class=\"dataframe\">\n",
       "  <thead>\n",
       "    <tr style=\"text-align: right;\">\n",
       "      <th></th>\n",
       "      <th>Profile Name</th>\n",
       "      <th>Start Time</th>\n",
       "      <th>Duration</th>\n",
       "      <th>Attributes</th>\n",
       "      <th>Title</th>\n",
       "      <th>Supplemental Video Type</th>\n",
       "      <th>Device Type</th>\n",
       "      <th>Bookmark</th>\n",
       "      <th>Latest Bookmark</th>\n",
       "      <th>Country</th>\n",
       "    </tr>\n",
       "  </thead>\n",
       "  <tbody>\n",
       "    <tr>\n",
       "      <th>0</th>\n",
       "      <td>Adam</td>\n",
       "      <td>2022-04-23 07:50:53</td>\n",
       "      <td>00:17:43</td>\n",
       "      <td>NaN</td>\n",
       "      <td>Pacific Rim: The Black: Season 2: bOy (Episode 1)</td>\n",
       "      <td>NaN</td>\n",
       "      <td>Samsung 2018 Kant-M2 UHD TV Smart TV</td>\n",
       "      <td>00:17:43</td>\n",
       "      <td>00:17:43</td>\n",
       "      <td>US (United States)</td>\n",
       "    </tr>\n",
       "  </tbody>\n",
       "</table>\n",
       "</div>"
      ],
      "text/plain": [
       "  Profile Name           Start Time  Duration Attributes  \\\n",
       "0         Adam  2022-04-23 07:50:53  00:17:43        NaN   \n",
       "\n",
       "                                               Title Supplemental Video Type  \\\n",
       "0  Pacific Rim: The Black: Season 2: bOy (Episode 1)                     NaN   \n",
       "\n",
       "                            Device Type  Bookmark Latest Bookmark  \\\n",
       "0  Samsung 2018 Kant-M2 UHD TV Smart TV  00:17:43        00:17:43   \n",
       "\n",
       "              Country  \n",
       "0  US (United States)  "
      ]
     },
     "execution_count": 20,
     "metadata": {},
     "output_type": "execute_result"
    }
   ],
   "source": [
    "import pandas as pd\n",
    "df = pd.read_csv('ViewingActivity.csv')\n",
    "df.shape\n",
    "df.head(1)"
   ]
  },
  {
   "cell_type": "code",
   "execution_count": 21,
   "id": "2d06c69b",
   "metadata": {},
   "outputs": [
    {
     "data": {
      "text/html": [
       "<div>\n",
       "<style scoped>\n",
       "    .dataframe tbody tr th:only-of-type {\n",
       "        vertical-align: middle;\n",
       "    }\n",
       "\n",
       "    .dataframe tbody tr th {\n",
       "        vertical-align: top;\n",
       "    }\n",
       "\n",
       "    .dataframe thead th {\n",
       "        text-align: right;\n",
       "    }\n",
       "</style>\n",
       "<table border=\"1\" class=\"dataframe\">\n",
       "  <thead>\n",
       "    <tr style=\"text-align: right;\">\n",
       "      <th></th>\n",
       "      <th>Start Time</th>\n",
       "      <th>Duration</th>\n",
       "      <th>Title</th>\n",
       "    </tr>\n",
       "  </thead>\n",
       "  <tbody>\n",
       "    <tr>\n",
       "      <th>0</th>\n",
       "      <td>2022-04-23 02:50:53-05:00</td>\n",
       "      <td>00:17:43</td>\n",
       "      <td>Pacific Rim: The Black: Season 2: bOy (Episode 1)</td>\n",
       "    </tr>\n",
       "  </tbody>\n",
       "</table>\n",
       "</div>"
      ],
      "text/plain": [
       "                 Start Time  Duration  \\\n",
       "0 2022-04-23 02:50:53-05:00  00:17:43   \n",
       "\n",
       "                                               Title  \n",
       "0  Pacific Rim: The Black: Season 2: bOy (Episode 1)  "
      ]
     },
     "execution_count": 21,
     "metadata": {},
     "output_type": "execute_result"
    }
   ],
   "source": [
    "df = df.drop(['Profile Name', 'Attributes', 'Supplemental Video Type', 'Device Type', 'Bookmark', 'Latest Bookmark', 'Country'], axis=1)\n",
    "df['Start Time'] = pd.to_datetime(df['Start Time'], utc=True)\n",
    "df = df.set_index('Start Time')\n",
    "df.index = df.index.tz_convert('US/Central')\n",
    "df = df.reset_index()\n",
    "df.head(1)"
   ]
  },
  {
   "cell_type": "code",
   "execution_count": 27,
   "id": "2e8e1883",
   "metadata": {},
   "outputs": [
    {
     "data": {
      "text/plain": [
       "(81, 3)"
      ]
     },
     "execution_count": 27,
     "metadata": {},
     "output_type": "execute_result"
    }
   ],
   "source": [
    "df['Duration'] = pd.to_timedelta(df['Duration'])\n",
    "show = df[df['Title'].str.contains('Castle', regex=False)]\n",
    "show = show[(show['Duration'] > '0 days 00:05:00')]\n",
    "show.shape"
   ]
  }
 ],
 "metadata": {
  "kernelspec": {
   "display_name": "Python 3 (ipykernel)",
   "language": "python",
   "name": "python3"
  },
  "language_info": {
   "codemirror_mode": {
    "name": "ipython",
    "version": 3
   },
   "file_extension": ".py",
   "mimetype": "text/x-python",
   "name": "python",
   "nbconvert_exporter": "python",
   "pygments_lexer": "ipython3",
   "version": "3.9.7"
  }
 },
 "nbformat": 4,
 "nbformat_minor": 5
}
